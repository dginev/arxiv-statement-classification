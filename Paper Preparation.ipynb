{
 "cells": [
  {
   "cell_type": "markdown",
   "metadata": {},
   "source": [
    "# Steps TODO:\n",
    " 1. Ensure proper shuffling is operational, enable it.\n",
    " 2. Run Grid search on 200,000 paragraphs for all benches?\n",
    " 3. Prepare Perceptron benchmark\n",
    " 4. Prepare Doc2Vec benchmark\n",
    " 5. Prepare HAN benchmark\n",
    " "
   ]
  },
  {
   "cell_type": "markdown",
   "metadata": {},
   "source": [
    "# Paper Trail\n",
    "\n",
    "## Classification Benchmarks\n",
    "\n",
    "### Full, 50 class task\n",
    "\n",
    "|Measure              | F1 score | F1 (no math) |\n",
    "|:--------------------|---------:|-------------:|\n",
    "| Zero Rule           |  0.201   | 0.206        |\n",
    "| 3-level BiLSTM      |   0.67   |      0.67    |\n",
    "\n",
    "### Core, 13 class task\n",
    "\n",
    "|Measure         | F1 score | F1 (no math) |\n",
    "|:---------------|---------:|-------------:|\n",
    "| Zero Rule      |    0.388 |        0.369 |\n",
    "| LogReg         |     ~0.41|              |\n",
    "| LogReg + GloVe |     0.77 |        ~0.75 |\n",
    "| Perceptron     |          |              |\n",
    "| Doc2Vec        |          |              |\n",
    "| HAN            |          |              |\n",
    "| 3-level BiLSTM |   0.91   |        0.90  |"
   ]
  },
  {
   "cell_type": "code",
   "execution_count": null,
   "metadata": {},
   "outputs": [],
   "source": []
  }
 ],
 "metadata": {
  "kernelspec": {
   "display_name": "Python 3",
   "language": "python",
   "name": "python3"
  },
  "language_info": {
   "codemirror_mode": {
    "name": "ipython",
    "version": 3
   },
   "file_extension": ".py",
   "mimetype": "text/x-python",
   "name": "python",
   "nbconvert_exporter": "python",
   "pygments_lexer": "ipython3",
   "version": "3.7.3"
  }
 },
 "nbformat": 4,
 "nbformat_minor": 2
}
